{
  "cells": [
    {
      "cell_type": "markdown",
      "metadata": {
        "id": "SKQ4bH7qMGrA"
      },
      "source": [
        "# Как эффективнее использовать подписку на Colab\n",
        "\n"
      ]
    },
    {
      "cell_type": "markdown",
      "metadata": {
        "id": "QMMqmdiYMkvi"
      },
      "source": [
        "## Более быстрые графические процессоры\n",
        "\n",
        "Благодаря Colab Pro вы получаете приоритетный доступ к нашим самым быстрым графическим процессорам, таким как T4 и P100 &#40;в то время как пользователи обычной версии Colab будут работать с более медленной моделью K80&#41;. А с Colab Pro+ возможностей будет ещё больше. Вы в любое время сможете посмотреть, какой графический процессор вам назначен, выполнив код в следующей ячейке.\n",
        "\n",
        "Если после выполнения кода в ячейке ниже появляется ошибка Not connected to a GPU, выберите другую среду. Чтобы подключить графический процессор, нажмите \"Среда выполнения &#62; Сменить среду выполнения\". После этого снова запустите выполнение кода в ячейке."
      ]
    },
    {
      "cell_type": "code",
      "execution_count": null,
      "metadata": {
        "id": "23TOba33L4qf"
      },
      "outputs": [],
      "source": [
        "gpu_info = !nvidia-smi\n",
        "gpu_info = '\\n'.join(gpu_info)\n",
        "if gpu_info.find('failed') >= 0:\n",
        "  print('Not connected to a GPU')\n",
        "else:\n",
        "  print(gpu_info)"
      ]
    },
    {
      "cell_type": "markdown",
      "metadata": {
        "id": "Sa-IrJS1aRVJ"
      },
      "source": [
        "Чтобы использовать для блокнота графический процессор, нажмите \"Среда выполнения &#62; Сменить среду выполнения\" и в списке аппаратных ускорителей выберите графический процессор."
      ]
    },
    {
      "cell_type": "markdown",
      "metadata": {
        "id": "65MSuHKqNeBZ"
      },
      "source": [
        "## Увеличенный объем памяти\n",
        "\n",
        "<p>Благодаря Colab Pro &#40;а тем более Colab Pro+&#41; вы можете использовать виртуальные машины с большим объемом памяти, если они доступны. Чтобы установить для блокнота среду выполнения с большим объемом памяти, нажмите \"Среда выполнения &#62; Сменить среду выполнения\", а затем выберите вариант \"Большой объем ОЗУ\" в меню \"Форма среды выполнения\".</p>\n",
        "<p>Вы в любое время сможете посмотреть объем доступной памяти, выполнив код в следующей ячейке.</p>\n",
        "Если после выполнения кода в ячейке ниже появляется ошибка Not using a high-RAM runtime, подключите среду с большим объемом ОЗУ. Для этого нажмите \"Среда выполнения &#62; Сменить среду выполнения\", а затем выберите пункт \"Большой объем ОЗУ\" в меню \"Форма среды выполнения\". После этого выполните код в ячейке ещё раз."
      ]
    },
    {
      "cell_type": "code",
      "execution_count": null,
      "metadata": {
        "id": "V1G82GuO-tez"
      },
      "outputs": [],
      "source": [
        "from psutil import virtual_memory\n",
        "ram_gb = virtual_memory().total / 1e9\n",
        "print('Your runtime has {:.1f} gigabytes of available RAM\\n'.format(ram_gb))\n",
        "\n",
        "if ram_gb < 20:\n",
        "  print('Not using a high-RAM runtime')\n",
        "else:\n",
        "  print('You are using a high-RAM runtime!')"
      ]
    },
    {
      "cell_type": "markdown",
      "metadata": {
        "id": "BJW8Qi-pPpep"
      },
      "source": [
        "## Увеличенное время работы\n",
        "\n",
        "Все среды выполнения Colab по прошествии определенного времени сбрасываются &#40;если в среде не выполняется код, это происходит быстрее&#41;. Хотя и Colab Pro предполагает лимит на использование сред, этот лимит примерно в два раза выше, чем в рамках обычной версии. А с Colab Pro+ возможностей будет ещё больше."
      ]
    },
    {
      "cell_type": "markdown",
      "metadata": {
        "id": "uLlTRcMM_h0k"
      },
      "source": [
        "## Лимиты использования ресурсов в Colab Pro\n",
        "\n",
        "Подписка Colab не предусматривает неограниченный доступ к ресурсам. Чтобы максимально эффективно использовать ресурсы Colab Pro и Colab Pro+, задействуйте их по мере необходимости, например используйте среды выполнения с большим объемом ОЗУ и графические процессоры только в том случае, если это действительно нужно, и закрывайте вкладки Colab после завершения работы.\n"
      ]
    },
    {
      "cell_type": "markdown",
      "metadata": {
        "id": "mm8FzEidvPs6"
      },
      "source": [
        "## Поделитесь своим мнением\n",
        "\n",
        "<p>Если у вас есть вопросы или предложения, свяжитесь с нами. Лучше всего использовать меню \"Справка &#62; Отправить отзыв\". Если вы достигнете лимита на использование в Colab Pro, рекомендуем оформить подписку на версию Pro+. Кроме того, вы можете перейти на оплату по мере использования, и тогда ограничения исчезнут вообще. Для этого свяжитесь с нами.</p>\n",
        "<p>Если при работе с Colab Pro или Pro+ у вас возникнут проблемы с оплатой, отправьте письмо на адрес <a href=\"mailto:colab-billing@google.com\">colab-billing@google.com</a>.</p>"
      ]
    },
    {
      "cell_type": "markdown",
      "metadata": {
        "id": "qB3bdLe8jkAa"
      },
      "source": [
        "## Ресурсы по теме\n",
        "\n",
        "### Работа с блокнотами в Colab\n",
        "- [Общие сведения о Colaboratory](/notebooks/basic_features_overview.ipynb)\n",
        "- [Руководство для Markdown](/notebooks/markdown_guide.ipynb)\n",
        "- [Импорт библиотек и установка зависимостей](/notebooks/snippets/importing_libraries.ipynb)\n",
        "- [Сохранение и загрузка блокнотов в GitHub](https://colab.research.google.com/github/googlecolab/colabtools/blob/master/notebooks/colab-github-demo.ipynb)\n",
        "- [Интерактивные формы](/notebooks/forms.ipynb)\n",
        "- [Интерактивные виджеты](/notebooks/widgets.ipynb)\n",
        "- <img src=\"/img/new.png\" height=\"20px\" align=\"left\" hspace=\"4px\" alt=\"New\"></img>\n",
        " [TensorFlow 2 в Colab](/notebooks/tensorflow_version.ipynb)\n",
        "\n",
        "<a name=\"working-with-data\"></a>\n",
        "### Работа с данными\n",
        "- [Загрузка данных: Диск, Таблицы и Google Cloud Storage](/notebooks/io.ipynb) \n",
        "- [Диаграмма: визуализация данных](/notebooks/charts.ipynb)\n",
        "- [Начало работы с BigQuery](/notebooks/bigquery.ipynb)\n",
        "\n",
        "### Экспресс-курс по машинному обучению\n",
        "Вот несколько блокнотов из онлайн-курса по машинному обучению от Google. Ещё больше информации доступно на <a href=\"https://developers.google.com/machine-learning/crash-course/\">сайте курса</a>.\n",
        "- [Знакомство с Pandas DataFrame](https://colab.research.google.com/github/google/eng-edu/blob/main/ml/cc/exercises/pandas_dataframe_ultraquick_tutorial.ipynb)\n",
        "- [Линейная регрессия в tf.keras с использованием синтетических данных](https://colab.research.google.com/github/google/eng-edu/blob/main/ml/cc/exercises/linear_regression_with_synthetic_data.ipynb)\n",
        "\n",
        "\n",
        "<a name=\"using-accelerated-hardware\"></a>\n",
        "### Использование ускорителей\n",
        "- [TensorFlow с графическими процессорами](/notebooks/gpu.ipynb)\n",
        "- [TensorFlow с TPU](/notebooks/tpu.ipynb)"
      ]
    },
    {
      "cell_type": "markdown",
      "metadata": {
        "id": "RFm2S0Gijqo8"
      },
      "source": [
        "<a name=\"machine-learning-examples\"></a>\n",
        "\n",
        "## Примеры использования в машинном обучении\n",
        "\n",
        "Подробные примеры интерактивного анализа, выполняемого с помощью машинного обучения и доступного благодаря платформе Colaboratory, можно найти в этих руководствах. В них используются модели с сайта <a href=\"https://tfhub.dev\">TensorFlow Hub</a>.\n",
        "\n",
        "Несколько примеров:\n",
        "\n",
        "- <a href=\"https://tensorflow.org/hub/tutorials/tf2_image_retraining\">Обучение классификатора изображений</a>. Используя предварительно обученный классификатор изображений, создайте модель Keras для распознавания цветов.\n",
        "- <a href=\"https://tensorflow.org/hub/tutorials/tf2_text_classification\">Классификация текста</a>. Разделите отзывы на сайте IMDb на <em>положительные</em> и <em>отрицательные</em>.\n",
        "- <a href=\"https://tensorflow.org/hub/tutorials/tf2_arbitrary_image_stylization\">Перенос стиля</a>. Используйте модель глубокого обучения, чтобы переносить стиль с одного изображения на другое.\n",
        "- <a href=\"https://tensorflow.org/hub/tutorials/retrieval_with_tf_hub_universal_encoder_qa\">Вопросно-ответный универсальный многоязычный кодировщик</a>. Используйте модель машинного обучения, чтобы отвечать на вопросы из набора данных SQuAD.\n",
        "- <a href=\"https://tensorflow.org/hub/tutorials/tweening_conv3d\">Интерполяция видео.</a> Спрогнозируйте, что произошло между первым и последним кадрами видео.\n"
      ]
    }
  ],
  "metadata": {
    "colab": {
      "collapsed_sections": [],
      "name": "Как эффективнее использовать подписку на Colab",
      "provenance": []
    },
    "kernelspec": {
      "display_name": "Python 3",
      "name": "python3"
    }
  },
  "nbformat": 4,
  "nbformat_minor": 0
}